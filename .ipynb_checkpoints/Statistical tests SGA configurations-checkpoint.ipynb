{
 "cells": [
  {
   "cell_type": "code",
   "execution_count": 20,
   "id": "09adbd9c",
   "metadata": {},
   "outputs": [],
   "source": [
    "import numpy as np\n",
    "from scipy import stats"
   ]
  },
  {
   "cell_type": "code",
   "execution_count": 18,
   "id": "09b01ed8",
   "metadata": {},
   "outputs": [],
   "source": [
    "model1_mean = [60.824172, 58.255582, 59.333222, 58.71523, 53.219437, 58.752233, 59.831292, 63.419273, 59.375523, 58.738217] #2point_uni_roul\n",
    "model2_mean = [54.715182, 49.311077, 59.14221, 49.797138, 49.754121, 56.116819, 54.502453, 56.375827, 59.906278, 48.05347] #blend_uni_roul\n",
    "model3_mean = [56.456577, 54.043295, 56.950306, 59.164305, 54.351911, 60.957859, 58.82571, 55.818228, 55.873277, 55.397112] #uni_uni_roul\n",
    "\n",
    "model4_mean = [76.406334, 76.882021, 74.652022, 73.803907, 77.322855, 74.607089, 60.83852, 75.249379, 62.128324, 78.99613] #2point_uni_tour\n",
    "model5_mean = [66.276672, 76.663863, 68.673622, 59.506603, 76.583019, 72.909606, 48.497838, 55.080012, 72.86798, 60.487564] #blend_uni_tour\n",
    "model6_mean = [64.374767, 77.376857, 70.450755, 76.426628, 59.453157, 75.468738, 80.591206, 74.915596, 81.597527, 61.56248] #uni_uni_tour"
   ]
  },
  {
   "cell_type": "code",
   "execution_count": null,
   "id": "d00f1e88",
   "metadata": {},
   "outputs": [],
   "source": []
  },
  {
   "cell_type": "code",
   "execution_count": 87,
   "id": "07def9bc",
   "metadata": {},
   "outputs": [
    {
     "name": "stdout",
     "output_type": "stream",
     "text": [
      "Mean: model 1 and model 4, H0: model1 <= model4 \t KstestResult(statistic=0.9, pvalue=0.00010825088224469028)\n",
      "Mean: model 1 and model 5, H0: model1 <= model5 \t KstestResult(statistic=0.6, pvalue=0.026223776223776224)\n",
      "Mean: model 1 and model 6, H0: model1 <= model6 \t KstestResult(statistic=0.8, pvalue=0.0010283833813245578)\n"
     ]
    }
   ],
   "source": [
    "print('Mean: model 1 and model 4, H0: model1 <= model4 \\t', stats.ks_2samp(model1_mean, model4_mean, alternative = 'greater'))\n",
    "print('Mean: model 1 and model 5, H0: model1 <= model5 \\t', stats.ks_2samp(model1_mean, model5_mean, alternative = 'greater'))\n",
    "print('Mean: model 1 and model 6, H0: model1 <= model6 \\t', stats.ks_2samp(model1_mean, model6_mean, alternative = 'greater'))"
   ]
  },
  {
   "cell_type": "code",
   "execution_count": 89,
   "id": "c6dcc1b9",
   "metadata": {},
   "outputs": [
    {
     "name": "stdout",
     "output_type": "stream",
     "text": [
      "Mean: model 2 and model 4, H0: model2 <= model4 \t KstestResult(statistic=1.0, pvalue=5.412544112234515e-06)\n",
      "Mean: model 2 and model 5, H0: model2 <= model5 \t KstestResult(statistic=0.7, pvalue=0.006170300287947347)\n",
      "Mean: model 2 and model 6, H0: model2 <= model6 \t KstestResult(statistic=0.9, pvalue=0.00010825088224469028)\n"
     ]
    }
   ],
   "source": [
    "print('Mean: model 2 and model 4, H0: model2 <= model4 \\t', stats.ks_2samp(model2_mean, model4_mean, alternative = 'greater'))\n",
    "print('Mean: model 2 and model 5, H0: model2 <= model5 \\t', stats.ks_2samp(model2_mean, model5_mean, alternative = 'greater'))\n",
    "print('Mean: model 2 and model 6, H0: model2 <= model6 \\t', stats.ks_2samp(model2_mean, model6_mean, alternative = 'greater'))"
   ]
  },
  {
   "cell_type": "code",
   "execution_count": 91,
   "id": "87608714",
   "metadata": {},
   "outputs": [
    {
     "name": "stdout",
     "output_type": "stream",
     "text": [
      "Mean: model 3 and model 4, H0: model3 <= model4 \t KstestResult(statistic=0.9, pvalue=0.00010825088224469028)\n",
      "Mean: model 3 and model 5, H0: model3 <= model5 \t KstestResult(statistic=0.7, pvalue=0.006170300287947347)\n",
      "Mean: model 3 and model 6, H0: model3 <= model6 \t KstestResult(statistic=0.9, pvalue=0.00010825088224469028)\n"
     ]
    }
   ],
   "source": [
    "print('Mean: model 3 and model 4, H0: model3 <= model4 \\t', stats.ks_2samp(model3_mean, model4_mean, alternative = 'greater'))\n",
    "print('Mean: model 3 and model 5, H0: model3 <= model5 \\t', stats.ks_2samp(model3_mean, model5_mean, alternative = 'greater'))\n",
    "print('Mean: model 3 and model 6, H0: model3 <= model6 \\t', stats.ks_2samp(model3_mean, model6_mean, alternative = 'greater'))"
   ]
  },
  {
   "cell_type": "code",
   "execution_count": 92,
   "id": "564cd3c6",
   "metadata": {},
   "outputs": [
    {
     "name": "stdout",
     "output_type": "stream",
     "text": [
      "Mean: model 4 and model 5, H0: model4 >= model5 \t KstestResult(statistic=0.6, pvalue=0.026223776223776224)\n",
      "Mean: model 4 and model 6, H0: model4 >= model6 \t KstestResult(statistic=0.2, pvalue=0.6818181818181818)\n"
     ]
    }
   ],
   "source": [
    "print('Mean: model 4 and model 5, H0: model4 >= model5 \\t', stats.ks_2samp(model4_mean, model5_mean, alternative = 'less'))\n",
    "print('Mean: model 4 and model 6, H0: model4 >= model6 \\t', stats.ks_2samp(model4_mean, model6_mean, alternative = 'less'))"
   ]
  },
  {
   "cell_type": "code",
   "execution_count": 93,
   "id": "7e6bfab1",
   "metadata": {},
   "outputs": [
    {
     "name": "stdout",
     "output_type": "stream",
     "text": [
      "Mean: model 5 and model 4, H0: model5 <= model4 \t KstestResult(statistic=0.6, pvalue=0.026223776223776224)\n",
      "Mean: model 5 and model 6, H0: model5 <= model6 \t KstestResult(statistic=0.4, pvalue=0.2097902097902098)\n"
     ]
    }
   ],
   "source": [
    "print('Mean: model 5 and model 4, H0: model5 <= model4 \\t', stats.ks_2samp(model5_mean, model4_mean, alternative = 'greater'))\n",
    "print('Mean: model 5 and model 6, H0: model5 <= model6 \\t', stats.ks_2samp(model5_mean, model6_mean, alternative = 'greater'))"
   ]
  },
  {
   "cell_type": "code",
   "execution_count": 94,
   "id": "992b3981",
   "metadata": {},
   "outputs": [
    {
     "name": "stdout",
     "output_type": "stream",
     "text": [
      "Mean: model 6 and model 4, H0: model6 <= model4 \t KstestResult(statistic=0.2, pvalue=0.6818181818181818)\n",
      "Mean: model 6 and model 5, H0: model6 >= model5 \t KstestResult(statistic=0.4, pvalue=0.2097902097902098)\n"
     ]
    }
   ],
   "source": [
    "print('Mean: model 6 and model 4, H0: model6 <= model4 \\t', stats.ks_2samp(model6_mean, model4_mean, alternative = 'greater'))\n",
    "print('Mean: model 6 and model 5, H0: model6 >= model5 \\t', stats.ks_2samp(model6_mean, model5_mean, alternative = 'less'))"
   ]
  },
  {
   "cell_type": "code",
   "execution_count": 95,
   "id": "129f60da",
   "metadata": {},
   "outputs": [
    {
     "name": "stdout",
     "output_type": "stream",
     "text": [
      "Max: model 4 and model 6, H0: model4 >= model6 \t KstestResult(statistic=0.2, pvalue=0.6818181818181818)\n",
      "Max: model 5 and model 6, H0: model5 <= model6 \t KstestResult(statistic=0.5, pvalue=0.08391608391608392)\n"
     ]
    }
   ],
   "source": [
    "print('Max: model 4 and model 6, H0: model4 >= model6 \\t', stats.ks_2samp(model4_max, model6_max, alternative = 'less'))\n",
    "print('Max: model 5 and model 6, H0: model5 <= model6 \\t', stats.ks_2samp(model5_max, model6_max, alternative = 'greater'))"
   ]
  },
  {
   "cell_type": "code",
   "execution_count": 74,
   "id": "8912a882",
   "metadata": {},
   "outputs": [
    {
     "data": {
      "text/plain": [
       "(73.0886581, 72.2217711)"
      ]
     },
     "execution_count": 74,
     "metadata": {},
     "output_type": "execute_result"
    }
   ],
   "source": [
    "sum(model4_mean)/len(model4_mean), sum(model6_mean)/len(model6_mean)"
   ]
  },
  {
   "cell_type": "code",
   "execution_count": 75,
   "id": "84a93859",
   "metadata": {},
   "outputs": [
    {
     "data": {
      "text/plain": [
       "(80.9103416, 80.4001961)"
      ]
     },
     "execution_count": 75,
     "metadata": {},
     "output_type": "execute_result"
    }
   ],
   "source": [
    "sum(model4_max)/len(model4_max), sum(model6_max)/len(model6_max)"
   ]
  },
  {
   "cell_type": "code",
   "execution_count": null,
   "id": "efca18b2",
   "metadata": {},
   "outputs": [],
   "source": []
  }
 ],
 "metadata": {
  "kernelspec": {
   "display_name": "Python 3 (ipykernel)",
   "language": "python",
   "name": "python3"
  },
  "language_info": {
   "codemirror_mode": {
    "name": "ipython",
    "version": 3
   },
   "file_extension": ".py",
   "mimetype": "text/x-python",
   "name": "python",
   "nbconvert_exporter": "python",
   "pygments_lexer": "ipython3",
   "version": "3.8.8"
  }
 },
 "nbformat": 4,
 "nbformat_minor": 5
}
