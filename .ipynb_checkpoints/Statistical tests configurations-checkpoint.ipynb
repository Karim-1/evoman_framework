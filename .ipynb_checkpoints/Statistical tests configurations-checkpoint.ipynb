{
 "cells": [
  {
   "cell_type": "code",
   "execution_count": 20,
   "id": "2af2851d",
   "metadata": {},
   "outputs": [],
   "source": [
    "import numpy as np\n",
    "from scipy import stats"
   ]
  },
  {
   "cell_type": "code",
   "execution_count": 17,
   "id": "3c059f9b",
   "metadata": {},
   "outputs": [],
   "source": [
    "model1_max = [68.452602, 81.807577, 77.570582, 75.285119, 81.873857, 85.370576, 85.432572, 81.503017, 75.351318, 81.08172] #2point_uni_roul\n",
    "model2_max = [82.558371, 79.504794, 80.563789, 76.545759, 73.693099, 74.385005, 76.451156, 79.530494, 78.594884, 75.93067] #blend_uni_roul\n",
    "model3_max = [75.849446, 63.153802, 74.165095, 66.30803, 79.812768, 68.963344, 81.226479, 85.442239, 89.328137, 72.591445] #uni_uni_roul\n",
    "\n",
    "model4_max = [83.278943, 81.996613, 83.066302, 83.26205, 85.710176, 84.63951, 63.291067, 82.413915, 76.036853, 85.407987] #2point_uni_tour\n",
    "model5_max = [79.370414, 82.818703, 79.67054, 80.13861, 84.409151, 80.05725, 79.855133, 63.03565, 79.336913, 62.511613] #2blend_uni_tour\n",
    "model6_max = [75.392734, 82.939062, 81.172366, 83.213676, 62.571647, 84.879897, 89.467883, 84.679362, 89.258967, 70.426367] #uni_uni_tour"
   ]
  },
  {
   "cell_type": "code",
   "execution_count": 18,
   "id": "703f579e",
   "metadata": {},
   "outputs": [],
   "source": [
    "model1_mean = [60.824172, 58.255582, 59.333222, 58.71523, 53.219437, 58.752233, 59.831292, 63.419273, 59.375523, 58.738217] #2point_uni_roul\n",
    "model2_mean = [54.715182, 49.311077, 59.14221, 49.797138, 49.754121, 56.116819, 54.502453, 56.375827, 59.906278, 48.05347] #blend_uni_roul\n",
    "model3_mean = [56.456577, 54.043295, 56.950306, 59.164305, 54.351911, 60.957859, 58.82571, 55.818228, 55.873277, 55.397112] #uni_uni_roul\n",
    "\n",
    "model4_mean = [76.406334, 76.882021, 74.652022, 73.803907, 77.322855, 74.607089, 60.83852, 75.249379, 62.128324, 78.99613] #2point_uni_tour\n",
    "model5_mean = [66.276672, 76.663863, 68.673622, 59.506603, 76.583019, 72.909606, 48.497838, 55.080012, 72.86798, 60.487564] #2blend_uni_tour\n",
    "model6_mean = [64.374767, 77.376857, 70.450755, 76.426628, 59.453157, 75.468738, 80.591206, 74.915596, 81.597527, 61.56248] #uni_uni_tour"
   ]
  },
  {
   "cell_type": "code",
   "execution_count": null,
   "id": "564e4c66",
   "metadata": {},
   "outputs": [],
   "source": []
  },
  {
   "cell_type": "code",
   "execution_count": 38,
   "id": "89b3aaad",
   "metadata": {},
   "outputs": [
    {
     "name": "stdout",
     "output_type": "stream",
     "text": [
      "Mean: model 1 and model 4, H0: model1 <= model4 \t KstestResult(statistic=0.9, pvalue=0.00010825088224469028)\n",
      "Mean: model 1 and model 5, H0: model1 <= model5 \t KstestResult(statistic=0.6, pvalue=0.026223776223776224)\n",
      "Mean: model 1 and model 6, H0: model1 <= model6 \t KstestResult(statistic=0.8, pvalue=0.0010283833813245578)\n"
     ]
    }
   ],
   "source": [
    "print('Mean: model 1 and model 4, H0: model1 <= model4 \\t', stats.ks_2samp(model1_mean, model4_mean, alternative = 'greater'))\n",
    "print('Mean: model 1 and model 5, H0: model1 <= model5 \\t', stats.ks_2samp(model1_mean, model5_mean, alternative = 'greater'))\n",
    "print('Mean: model 1 and model 6, H0: model1 <= model6 \\t', stats.ks_2samp(model1_mean, model6_mean, alternative = 'greater'))"
   ]
  },
  {
   "cell_type": "code",
   "execution_count": 39,
   "id": "0eb02410",
   "metadata": {},
   "outputs": [
    {
     "name": "stdout",
     "output_type": "stream",
     "text": [
      "Mean: model 2 and model 4, H0: model2 <= model4 \t KstestResult(statistic=1.0, pvalue=5.412544112234515e-06)\n",
      "Mean: model 2 and model 5, H0: model2 <= model5 \t KstestResult(statistic=0.7, pvalue=0.006170300287947347)\n",
      "Mean: model 2 and model 6, H0: model2 <= model6 \t KstestResult(statistic=0.9, pvalue=0.00010825088224469028)\n"
     ]
    }
   ],
   "source": [
    "print('Mean: model 2 and model 4, H0: model2 <= model4 \\t', stats.ks_2samp(model2_mean, model4_mean, alternative = 'greater'))\n",
    "print('Mean: model 2 and model 5, H0: model2 <= model5 \\t', stats.ks_2samp(model2_mean, model5_mean, alternative = 'greater'))\n",
    "print('Mean: model 2 and model 6, H0: model2 <= model6 \\t', stats.ks_2samp(model2_mean, model6_mean, alternative = 'greater'))"
   ]
  },
  {
   "cell_type": "code",
   "execution_count": 40,
   "id": "9cbea861",
   "metadata": {},
   "outputs": [
    {
     "name": "stdout",
     "output_type": "stream",
     "text": [
      "Mean: model 3 and model 4, H0: model3 <= model4 \t KstestResult(statistic=0.9, pvalue=0.00010825088224469028)\n",
      "Mean: model 3 and model 5, H0: model3 <= model5 \t KstestResult(statistic=0.7, pvalue=0.006170300287947347)\n",
      "Mean: model 3 and model 6, H0: model3 <= model6 \t KstestResult(statistic=0.9, pvalue=0.00010825088224469028)\n"
     ]
    }
   ],
   "source": [
    "print('Mean: model 3 and model 4, H0: model3 <= model4 \\t', stats.ks_2samp(model3_mean, model4_mean, alternative = 'greater'))\n",
    "print('Mean: model 3 and model 5, H0: model3 <= model5 \\t', stats.ks_2samp(model3_mean, model5_mean, alternative = 'greater'))\n",
    "print('Mean: model 3 and model 6, H0: model3 <= model6 \\t', stats.ks_2samp(model3_mean, model6_mean, alternative = 'greater'))"
   ]
  },
  {
   "cell_type": "code",
   "execution_count": 54,
   "id": "57787c25",
   "metadata": {},
   "outputs": [
    {
     "name": "stdout",
     "output_type": "stream",
     "text": [
      "Max: model 4 and model 5, H0: model4 >= model5 \t KstestResult(statistic=0.6, pvalue=0.026223776223776224)\n",
      "Max: model 4 and model 6, H0: model4 >= model6 \t KstestResult(statistic=0.2, pvalue=0.6818181818181818)\n"
     ]
    }
   ],
   "source": [
    "print('Mean: model 4 and model 5, H0: model4 >= model5 \\t', stats.ks_2samp(model4_mean, model5_mean, alternative = 'less'))\n",
    "print('Mean: model 4 and model 6, H0: model4 >= model6 \\t', stats.ks_2samp(model4_mean, model6_mean, alternative = 'less'))"
   ]
  },
  {
   "cell_type": "code",
   "execution_count": 56,
   "id": "06aa7846",
   "metadata": {},
   "outputs": [
    {
     "name": "stdout",
     "output_type": "stream",
     "text": [
      "Max: model 5 and model 4, H0: model5 <= model4 \t KstestResult(statistic=0.6, pvalue=0.026223776223776224)\n",
      "Max: model 5 and model 6, H0: model5 <= model6 \t KstestResult(statistic=0.4, pvalue=0.41752365281777043)\n"
     ]
    }
   ],
   "source": [
    "print('Mean: model 5 and model 4, H0: model5 <= model4 \\t', stats.ks_2samp(model5_mean, model4_mean, alternative = 'greater'))\n",
    "print('Mean: model 5 and model 6, H0: model5 <= model6 \\t', stats.ks_2samp(model5_mean, model6_mean, alternative = 'greater'))"
   ]
  },
  {
   "cell_type": "code",
   "execution_count": 60,
   "id": "a4ebdb64",
   "metadata": {},
   "outputs": [
    {
     "name": "stdout",
     "output_type": "stream",
     "text": [
      "Max: model 6 and model 4, H0: model6 <= model4 \t KstestResult(statistic=0.2, pvalue=0.6818181818181818)\n",
      "Max: model 6 and model 5, H0: model6 >= model5 \t KstestResult(statistic=0.4, pvalue=0.2097902097902098)\n"
     ]
    }
   ],
   "source": [
    "print('Mean: model 6 and model 4, H0: model6 <= model4 \\t', stats.ks_2samp(model6_mean, model4_mean, alternative = 'greater'))\n",
    "print('Mean: model 6 and model 5, H0: model6 >= model5 \\t', stats.ks_2samp(model6_mean, model5_mean, alternative = 'less'))"
   ]
  },
  {
   "cell_type": "code",
   "execution_count": null,
   "id": "e458085c",
   "metadata": {},
   "outputs": [],
   "source": []
  }
 ],
 "metadata": {
  "kernelspec": {
   "display_name": "Python 3 (ipykernel)",
   "language": "python",
   "name": "python3"
  },
  "language_info": {
   "codemirror_mode": {
    "name": "ipython",
    "version": 3
   },
   "file_extension": ".py",
   "mimetype": "text/x-python",
   "name": "python",
   "nbconvert_exporter": "python",
   "pygments_lexer": "ipython3",
   "version": "3.8.8"
  }
 },
 "nbformat": 4,
 "nbformat_minor": 5
}
